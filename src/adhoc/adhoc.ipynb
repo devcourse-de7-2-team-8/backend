{
 "cells": [
  {
   "cell_type": "code",
   "execution_count": 1,
   "id": "initial_id",
   "metadata": {
    "ExecuteTime": {
     "end_time": "2025-10-28T06:02:55.463615Z",
     "start_time": "2025-10-28T06:02:55.081509Z"
    },
    "collapsed": true
   },
   "outputs": [],
   "source": [
    "from utils.conn_utils import get_snowflake_conn"
   ]
  },
  {
   "cell_type": "code",
   "execution_count": 2,
   "id": "f634cb5e6f51c297",
   "metadata": {
    "ExecuteTime": {
     "end_time": "2025-10-28T06:02:57.108698Z",
     "start_time": "2025-10-28T06:02:55.949327Z"
    }
   },
   "outputs": [],
   "source": [
    "conn = get_snowflake_conn()"
   ]
  }
 ],
 "metadata": {
  "kernelspec": {
   "display_name": "Python 3",
   "language": "python",
   "name": "python3"
  },
  "language_info": {
   "codemirror_mode": {
    "name": "ipython",
    "version": 2
   },
   "file_extension": ".py",
   "mimetype": "text/x-python",
   "name": "python",
   "nbconvert_exporter": "python",
   "pygments_lexer": "ipython2",
   "version": "2.7.6"
  }
 },
 "nbformat": 4,
 "nbformat_minor": 5
}
