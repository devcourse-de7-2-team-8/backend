{
 "cells": [
  {
   "cell_type": "code",
   "id": "initial_id",
   "metadata": {
    "collapsed": true,
    "ExecuteTime": {
     "end_time": "2025-10-28T04:32:02.742114Z",
     "start_time": "2025-10-28T04:32:02.417462Z"
    }
   },
   "source": [
    "import pandas as pd\n",
    "\n",
    "from utils.conn_utils import get_snowflake_conn"
   ],
   "outputs": [],
   "execution_count": 2
  },
  {
   "metadata": {
    "ExecuteTime": {
     "end_time": "2025-10-28T04:32:04.422202Z",
     "start_time": "2025-10-28T04:32:03.287158Z"
    }
   },
   "cell_type": "code",
   "source": "conn = get_snowflake_conn()",
   "id": "f634cb5e6f51c297",
   "outputs": [],
   "execution_count": 3
  },
  {
   "metadata": {
    "ExecuteTime": {
     "end_time": "2025-10-28T04:32:31.900302Z",
     "start_time": "2025-10-28T04:32:31.855471Z"
    }
   },
   "cell_type": "code",
   "source": "conn.cursor().execute(\"select * from region_info\").fetchone()",
   "id": "371c13ceb11da136",
   "outputs": [
    {
     "data": {
      "text/plain": [
       "(1, '서울', '강남구', 37.50312190573343, 127.05321712077422)"
      ]
     },
     "execution_count": 5,
     "metadata": {},
     "output_type": "execute_result"
    }
   ],
   "execution_count": 5
  },
  {
   "metadata": {},
   "cell_type": "code",
   "outputs": [],
   "execution_count": null,
   "source": "",
   "id": "f6da508be17f63c9"
  }
 ],
 "metadata": {
  "kernelspec": {
   "display_name": "Python 3",
   "language": "python",
   "name": "python3"
  },
  "language_info": {
   "codemirror_mode": {
    "name": "ipython",
    "version": 2
   },
   "file_extension": ".py",
   "mimetype": "text/x-python",
   "name": "python",
   "nbconvert_exporter": "python",
   "pygments_lexer": "ipython2",
   "version": "2.7.6"
  }
 },
 "nbformat": 4,
 "nbformat_minor": 5
}
